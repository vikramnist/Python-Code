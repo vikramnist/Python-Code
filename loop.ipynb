{
 "cells": [
  {
   "cell_type": "code",
   "execution_count": null,
   "metadata": {},
   "outputs": [],
   "source": [
    "class student:\n",
    "    \n",
    "    school ='vidyalaya'\n",
    "    def __init__(self,m1,m2,m3):\n",
    "        self.m1 = m1\n",
    "        self.m2 = m2\n",
    "        self.m3 = m3\n",
    "        \n",
    "        \n",
    "        \n",
    "    def avg(self):\n",
    "        return (self.m1 + self.m2+self.m3)/3\n",
    "    \n",
    "    \n",
    "    @classmethod\n",
    "    def info(cls):\n",
    "        return cls.school\n",
    "        \n",
    "s1 = student(34,55,67)\n",
    "s1.avg()\n",
    "\n",
    "print(s1.info())\n"
   ]
  },
  {
   "cell_type": "code",
   "execution_count": 3,
   "metadata": {},
   "outputs": [
    {
     "name": "stdout",
     "output_type": "stream",
     "text": [
      "we cannot dividea number by zero\n"
     ]
    }
   ],
   "source": [
    "try:\n",
    "    \n",
    "    \n",
    "    num1 = 100\n",
    "    num2 = 0\n",
    "    result = num1/num2\n",
    "    \n",
    "    print(\"result is\",result)\n",
    "    \n",
    "    data = \"ocean\"\n",
    "    print(data.get('name'))\n",
    "    \n",
    "    list1 = [1,22,3,4,5,7]\n",
    "    print(list1[40])\n",
    "    \n",
    "except ZeroDivisionError:\n",
    "    \n",
    "    print(\"we cannot dividea number by zero\")\n",
    "    \n",
    "except AttributeError:\n",
    "    \n",
    "    print(\"name is not present\")\n",
    "    \n",
    "except indexError:\n",
    "    \n",
    "    print(\"index is not present\")\n"
   ]
  },
  {
   "cell_type": "code",
   "execution_count": 13,
   "metadata": {},
   "outputs": [
    {
     "name": "stdout",
     "output_type": "stream",
     "text": [
      "we cannot dividea number by zero\n"
     ]
    }
   ],
   "source": [
    "try:\n",
    "    \n",
    "    \n",
    "    num1 = 100\n",
    "    num2 = 0\n",
    "    result = num1/num2\n",
    "    \n",
    "    print(\"result is\",result)\n",
    "    \n",
    "    \n",
    "    list1 = [1,22,3,4,5,7]\n",
    "    print(list1[40])\n",
    "    \n",
    "except ZeroDivisionError:\n",
    "    \n",
    "    print(\"we cannot dividea number by zero\")\n",
    "    \n",
    "except indexError:\n",
    "    \n",
    "    print(\"index is not present\")\n"
   ]
  },
  {
   "cell_type": "code",
   "execution_count": 6,
   "metadata": {},
   "outputs": [
    {
     "name": "stdout",
     "output_type": "stream",
     "text": [
      "amit\n"
     ]
    }
   ],
   "source": [
    "d = {\"name\" : \"amit\"}\n",
    "print(d[\"name\"])"
   ]
  },
  {
   "cell_type": "code",
   "execution_count": 29,
   "metadata": {},
   "outputs": [
    {
     "name": "stdout",
     "output_type": "stream",
     "text": [
      "result is 10.0\n",
      "ocean\n",
      "index is not present\n"
     ]
    }
   ],
   "source": [
    "try:\n",
    "    \n",
    "    \n",
    "    num1 = 100\n",
    "    num2 = 10\n",
    "    result = num1/num2\n",
    "    \n",
    "    print(\"result is\",result)\n",
    "    \n",
    "    data = \"ocean\"\n",
    "    print(data)\n",
    "    \n",
    "    list1 = [1,22,3,4,5,7]\n",
    "    print(list1[40])\n",
    "    \n",
    "except ZeroDivisionError:\n",
    "    \n",
    "    print(\"we cannot dividea number by zero\")\n",
    "    \n",
    "except NameError:\n",
    "    \n",
    "    print(\"name is not present\")\n",
    "    \n",
    "except IndexError:\n",
    "    \n",
    "    print(\"index is not present\")\n"
   ]
  },
  {
   "cell_type": "code",
   "execution_count": 30,
   "metadata": {},
   "outputs": [
    {
     "name": "stdout",
     "output_type": "stream",
     "text": [
      "inside class A\n"
     ]
    }
   ],
   "source": [
    "class A:\n",
    "    \n",
    "    def explore(self):\n",
    "        \n",
    "        print(\"inside class A\")\n",
    "        \n",
    "class B(A):\n",
    "    \n",
    "    def explore1(self):\n",
    "        print(\"inside class b\")\n",
    "        \n",
    "b = B()\n",
    "\n",
    "b.explore()\n",
    "    \n",
    "    "
   ]
  },
  {
   "cell_type": "code",
   "execution_count": 31,
   "metadata": {},
   "outputs": [
    {
     "name": "stdout",
     "output_type": "stream",
     "text": [
      "inside class A\n",
      "inside class b\n"
     ]
    }
   ],
   "source": [
    "class A:\n",
    "    \n",
    "    def explore(self):\n",
    "        \n",
    "        print(\"inside class A\")\n",
    "        \n",
    "class B:\n",
    "    \n",
    "    def explore1(self):\n",
    "        print(\"inside class b\")\n",
    "        \n",
    "class c(A,B):\n",
    "    def explore3(self):\n",
    "        print(\"inside c\")\n",
    "        \n",
    "        \n",
    "cobj = c()\n",
    "\n",
    "cobj.explore()\n",
    "cobj.explore1()\n"
   ]
  },
  {
   "cell_type": "code",
   "execution_count": 3,
   "metadata": {},
   "outputs": [],
   "source": [
    "class InvalidLevelError(Exception):\n",
    "    def __init__(self,message):\n",
    "        self.message = message\n",
    "        \n",
    "level = -1\n",
    "\n",
    "\n",
    "try:\n",
    "    \n",
    "    if level <-2:\n",
    "        raise InvalidLevelError(\"Invalid level\")\n",
    "        \n",
    "except InvalidLevelError as e:\n",
    "    print(e.message)"
   ]
  },
  {
   "cell_type": "code",
   "execution_count": 3,
   "metadata": {},
   "outputs": [
    {
     "name": "stdout",
     "output_type": "stream",
     "text": [
      "apple\n",
      "banana\n",
      "cherry\n",
      "<class 'str'>\n"
     ]
    }
   ],
   "source": [
    "# for loop in python\n",
    "\n",
    "fruits = [\"apple\",\"banana\",\"cherry\"]\n",
    "\n",
    "for x in fruits:\n",
    "    print(x)\n",
    "    \n",
    "print(type(x))\n",
    "\n",
    "    \n",
    "   "
   ]
  },
  {
   "cell_type": "code",
   "execution_count": 2,
   "metadata": {},
   "outputs": [
    {
     "name": "stdout",
     "output_type": "stream",
     "text": [
      "b\n",
      "a\n",
      "n\n",
      "a\n",
      "n\n",
      "a\n"
     ]
    }
   ],
   "source": [
    "for x in \"banana\":\n",
    "    \n",
    "    print(x)"
   ]
  },
  {
   "cell_type": "code",
   "execution_count": 5,
   "metadata": {},
   "outputs": [
    {
     "name": "stdout",
     "output_type": "stream",
     "text": [
      "apple\n",
      "banana\n"
     ]
    }
   ],
   "source": [
    "fruits = [\"apple\",\"banana\",\"cherry\"]\n",
    "\n",
    "for x in fruits:\n",
    "    print(x)\n",
    "    \n",
    "    if x ==\"banana\":\n",
    "        break\n",
    "    \n",
    "    \n",
    "\n"
   ]
  },
  {
   "cell_type": "code",
   "execution_count": 1,
   "metadata": {},
   "outputs": [
    {
     "name": "stdout",
     "output_type": "stream",
     "text": [
      "apple\n",
      "banana\n",
      "orange\n"
     ]
    }
   ],
   "source": [
    "fruits = [\"apple\",\"banana\",\"cherry\",\"orange\"]\n",
    "\n",
    "for x in fruits:\n",
    "    \n",
    "    if x == \"cherry\":\n",
    "        \n",
    "        continue\n",
    "        \n",
    "    print(x)"
   ]
  },
  {
   "cell_type": "code",
   "execution_count": 12,
   "metadata": {},
   "outputs": [
    {
     "name": "stdout",
     "output_type": "stream",
     "text": [
      "1\n",
      "3\n",
      "5\n",
      "7\n",
      "9\n"
     ]
    }
   ],
   "source": [
    "for x in range(1,10,2):\n",
    "    print(x)"
   ]
  },
  {
   "cell_type": "code",
   "execution_count": 8,
   "metadata": {},
   "outputs": [
    {
     "name": "stdout",
     "output_type": "stream",
     "text": [
      "2\n",
      "3\n",
      "4\n",
      "5\n"
     ]
    }
   ],
   "source": [
    "for x in range(2,6):\n",
    "    \n",
    "    print(x)\n"
   ]
  },
  {
   "cell_type": "code",
   "execution_count": 14,
   "metadata": {},
   "outputs": [],
   "source": [
    "for x in range(2,30,2):\n",
    "    pass\n",
    "    \n",
    "    "
   ]
  },
  {
   "cell_type": "code",
   "execution_count": 16,
   "metadata": {},
   "outputs": [],
   "source": [
    "def add(a,b):\n",
    "    \n",
    "    pass"
   ]
  },
  {
   "cell_type": "code",
   "execution_count": 17,
   "metadata": {},
   "outputs": [
    {
     "name": "stdout",
     "output_type": "stream",
     "text": [
      "red big tasty ['apple', 'banana', 'cherry']\n",
      "red big tasty ['apple', 'banana', 'cherry']\n",
      "red big tasty ['apple', 'banana', 'cherry']\n",
      "red big tasty ['apple', 'banana', 'cherry']\n",
      "red big tasty ['apple', 'banana', 'cherry']\n",
      "red big tasty ['apple', 'banana', 'cherry']\n",
      "red big tasty ['apple', 'banana', 'cherry']\n",
      "red big tasty ['apple', 'banana', 'cherry']\n",
      "red big tasty ['apple', 'banana', 'cherry']\n"
     ]
    }
   ],
   "source": [
    "a = [\"red\",\"big\",\"tasty\"]\n",
    "b = [\"apple\",\"banana\",\"cherry\"]\n",
    "\n",
    "    for y in fruits:\n",
    "        if len(a) == len(b):\n",
    "            print(\" \".join(a), b)\n",
    "            \n",
    "            \n",
    "        "
   ]
  },
  {
   "cell_type": "code",
   "execution_count": 6,
   "metadata": {},
   "outputs": [],
   "source": [
    "# pass statement\n",
    "fruits = [\"apple\",\"banana\",\"cherry\"]\n",
    "\n",
    "\n",
    "\n",
    "for x in fruits:\n",
    "\n",
    "    pass"
   ]
  },
  {
   "cell_type": "code",
   "execution_count": 19,
   "metadata": {},
   "outputs": [
    {
     "name": "stdout",
     "output_type": "stream",
     "text": [
      "1 \n",
      "2 \n",
      "3 \n",
      "4 \n"
     ]
    }
   ],
   "source": [
    "#doubt\n",
    "\n",
    "for i in range(1,5): \n",
    "    for j in range(1):\n",
    "        \n",
    "        print(i, end =' ')\n",
    "    print()\n",
    "    \n",
    "1\n",
    "1 2\n",
    "1 2 3\n"
   ]
  },
  {
   "cell_type": "code",
   "execution_count": 21,
   "metadata": {},
   "outputs": [
    {
     "name": "stdout",
     "output_type": "stream",
     "text": [
      "0\n",
      "1\n"
     ]
    }
   ],
   "source": [
    "for x in range(2):\n",
    "    print(x)"
   ]
  },
  {
   "cell_type": "code",
   "execution_count": 13,
   "metadata": {
    "scrolled": true
   },
   "outputs": [
    {
     "name": "stdout",
     "output_type": "stream",
     "text": [
      "1\n",
      "2\n",
      "3\n",
      "4\n",
      "5\n",
      "6\n",
      "7\n"
     ]
    }
   ],
   "source": [
    "# while loop\n",
    "\n",
    "\n",
    "i = 1\n",
    "\n",
    "while i <= 7:\n",
    "    print(i)\n",
    "    \n",
    "    i= i + 1"
   ]
  },
  {
   "cell_type": "code",
   "execution_count": 34,
   "metadata": {},
   "outputs": [
    {
     "name": "stdout",
     "output_type": "stream",
     "text": [
      "1\n",
      "2\n",
      "3\n"
     ]
    }
   ],
   "source": [
    "i = 1\n",
    "\n",
    "while i < 6:\n",
    "    print(i)\n",
    "    if i ==3:\n",
    "        break\n",
    "        \n",
    "    i = i+1"
   ]
  },
  {
   "cell_type": "code",
   "execution_count": 24,
   "metadata": {},
   "outputs": [
    {
     "name": "stdout",
     "output_type": "stream",
     "text": [
      "a is equal to b\n"
     ]
    }
   ],
   "source": [
    "a = 333\n",
    "b = 333\n",
    "\n",
    "if b > a:\n",
    "    print(\" b is greater\")\n",
    "    \n",
    "elif a==b:\n",
    "    print(\"a is equal to b\")\n",
    "    \n",
    "    \n",
    "else:\n",
    "    \n",
    "    print(\"a is greater\")\n",
    "    \n",
    "    \n",
    "\n",
    "    \n",
    "    \n",
    " "
   ]
  },
  {
   "cell_type": "code",
   "execution_count": 18,
   "metadata": {},
   "outputs": [
    {
     "name": "stdout",
     "output_type": "stream",
     "text": [
      "12\n"
     ]
    }
   ],
   "source": [
    "def add(a,b):\n",
    "    return a+b\n",
    "\n",
    "d = add(4,8)\n",
    "print(d)"
   ]
  },
  {
   "cell_type": "code",
   "execution_count": 21,
   "metadata": {},
   "outputs": [
    {
     "name": "stdout",
     "output_type": "stream",
     "text": [
      "13\n"
     ]
    }
   ],
   "source": [
    "def add(a,b):\n",
    "    c = a+b\n",
    "    print(c)\n",
    "    \n",
    "add(6,7)"
   ]
  },
  {
   "cell_type": "code",
   "execution_count": 22,
   "metadata": {},
   "outputs": [
    {
     "name": "stdout",
     "output_type": "stream",
     "text": [
      "50\n"
     ]
    }
   ],
   "source": [
    "add(20,30)"
   ]
  },
  {
   "cell_type": "code",
   "execution_count": 25,
   "metadata": {},
   "outputs": [],
   "source": [
    "def evenodd(x):\n",
    "    \n",
    "    if(x%2 == 0):# == check whether condition is met or not\n",
    "        print(\"even\")\n",
    "        \n",
    "    else:\n",
    "        print(\"odd\")\n",
    "        "
   ]
  },
  {
   "cell_type": "code",
   "execution_count": 26,
   "metadata": {},
   "outputs": [
    {
     "name": "stdout",
     "output_type": "stream",
     "text": [
      "even\n"
     ]
    }
   ],
   "source": [
    "evenodd(30)"
   ]
  },
  {
   "cell_type": "code",
   "execution_count": 27,
   "metadata": {},
   "outputs": [
    {
     "name": "stdout",
     "output_type": "stream",
     "text": [
      "anand kumar\n",
      "amit kumar\n"
     ]
    }
   ],
   "source": [
    "def myfunc(fname):\n",
    "    print(fname +\" \" + \"kumar\")\n",
    "\n",
    "    \n",
    "myfunc(\"anand\")\n",
    "myfunc(\"amit\")\n",
    "    \n",
    "\n",
    "    "
   ]
  },
  {
   "cell_type": "code",
   "execution_count": 33,
   "metadata": {},
   "outputs": [
    {
     "name": "stdout",
     "output_type": "stream",
     "text": [
      " the number is c\n"
     ]
    }
   ],
   "source": [
    "# star args is used to take multiple arguments inside a function.\n",
    "def my_func(*a): \n",
    "    \n",
    "    print(\" the number is\" + \" \" + a[2])\n",
    "    \n",
    "my_func(\"a\",\"b\",\"c\",\"d\")\n",
    "    \n",
    "    "
   ]
  },
  {
   "cell_type": "code",
   "execution_count": 39,
   "metadata": {},
   "outputs": [
    {
     "name": "stdout",
     "output_type": "stream",
     "text": [
      "v\n",
      "i\n",
      "k\n",
      "r\n",
      "a\n",
      "m\n"
     ]
    }
   ],
   "source": [
    "def function(cat):\n",
    "    for i in cat:\n",
    "        print(i)\n",
    "        \n",
    "function(\"vikram\")"
   ]
  },
  {
   "cell_type": "code",
   "execution_count": 41,
   "metadata": {},
   "outputs": [
    {
     "name": "stdout",
     "output_type": "stream",
     "text": [
      "vikram\n"
     ]
    }
   ],
   "source": [
    "def function(*cat):\n",
    "    for i in cat:\n",
    "        print(i)\n",
    "        \n",
    "function(\"vikram\")"
   ]
  },
  {
   "cell_type": "code",
   "execution_count": 42,
   "metadata": {},
   "outputs": [
    {
     "name": "stdout",
     "output_type": "stream",
     "text": [
      "vikram\n",
      "31\n",
      "kumar\n",
      "orissa\n"
     ]
    }
   ],
   "source": [
    "def function(*cat):\n",
    "    for i in cat:\n",
    "        print(i)\n",
    "        \n",
    "function(\"vikram\",31,\"kumar\",\"orissa\")"
   ]
  },
  {
   "cell_type": "code",
   "execution_count": 44,
   "metadata": {},
   "outputs": [
    {
     "name": "stdout",
     "output_type": "stream",
     "text": [
      "name vikram\n",
      "age 31\n",
      "title kumar\n",
      "state orissa\n"
     ]
    }
   ],
   "source": [
    "# doubt .dictionary concept is reqd\n",
    "\n",
    "def function(**cat):\n",
    "    for i in cat:\n",
    "        print(i,cat[i])\n",
    "        \n",
    "function(name = \"vikram\",age = 31,title = \"kumar\",state = \"orissa\")"
   ]
  },
  {
   "cell_type": "code",
   "execution_count": 45,
   "metadata": {},
   "outputs": [
    {
     "name": "stdout",
     "output_type": "stream",
     "text": [
      "5\n"
     ]
    }
   ],
   "source": [
    "def add(a,b):\n",
    "    return a+b\n",
    "\n",
    "c = add(2,3)\n",
    "print(c)\n",
    "    "
   ]
  },
  {
   "cell_type": "code",
   "execution_count": 47,
   "metadata": {},
   "outputs": [
    {
     "name": "stdout",
     "output_type": "stream",
     "text": [
      "5\n"
     ]
    }
   ],
   "source": [
    "a = lambda a,b : a+b\n",
    "print(a(2,3))\n",
    "\n",
    "\n",
    "\n"
   ]
  },
  {
   "cell_type": "code",
   "execution_count": 48,
   "metadata": {},
   "outputs": [
    {
     "name": "stdout",
     "output_type": "stream",
     "text": [
      "30\n"
     ]
    }
   ],
   "source": [
    "print(a(10,20))"
   ]
  },
  {
   "cell_type": "markdown",
   "metadata": {},
   "source": [
    "#syntax of Filter \n",
    "filter(function,sequence)"
   ]
  },
  {
   "cell_type": "code",
   "execution_count": 37,
   "metadata": {},
   "outputs": [
    {
     "name": "stdout",
     "output_type": "stream",
     "text": [
      "1234236789\n"
     ]
    }
   ],
   "source": [
    "s = \"abcdef1234ng23h6789\"\n",
    "\n",
    "res = ''.join((filter(lambda i : i.isdigit(),s)))\n",
    "print(res)\n"
   ]
  },
  {
   "cell_type": "code",
   "execution_count": 38,
   "metadata": {},
   "outputs": [
    {
     "name": "stdout",
     "output_type": "stream",
     "text": [
      "applebanana\n"
     ]
    }
   ],
   "source": [
    "d = [\"apple\",\"banana\"]\n",
    "s = \"cricket\"\n",
    "\n",
    "x = ''.join(d)\n",
    "print(x)"
   ]
  },
  {
   "cell_type": "code",
   "execution_count": null,
   "metadata": {},
   "outputs": [],
   "source": []
  }
 ],
 "metadata": {
  "kernelspec": {
   "display_name": "Python 3",
   "language": "python",
   "name": "python3"
  },
  "language_info": {
   "codemirror_mode": {
    "name": "ipython",
    "version": 3
   },
   "file_extension": ".py",
   "mimetype": "text/x-python",
   "name": "python",
   "nbconvert_exporter": "python",
   "pygments_lexer": "ipython3",
   "version": "3.7.4"
  }
 },
 "nbformat": 4,
 "nbformat_minor": 2
}
