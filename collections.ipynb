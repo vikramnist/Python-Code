{
 "cells": [
  {
   "cell_type": "code",
   "execution_count": 1,
   "metadata": {},
   "outputs": [],
   "source": [
    "#named tuple\n",
    "#from collections import namedtuple\n",
    "import collections\n",
    "a = collections.namedtuple('student', ['first', 'last', 'grade'])"
   ]
  },
  {
   "cell_type": "code",
   "execution_count": 2,
   "metadata": {},
   "outputs": [],
   "source": [
    "named_student_tuple = a('Lisa', 'Simpson', 'A')"
   ]
  },
  {
   "cell_type": "code",
   "execution_count": 3,
   "metadata": {},
   "outputs": [
    {
     "name": "stdout",
     "output_type": "stream",
     "text": [
      "student(first='Lisa', last='Simpson', grade='A')\n"
     ]
    }
   ],
   "source": [
    "print(named_student_tuple)"
   ]
  },
  {
   "cell_type": "code",
   "execution_count": 7,
   "metadata": {},
   "outputs": [
    {
     "data": {
      "text/plain": [
       "'Lisa'"
      ]
     },
     "execution_count": 7,
     "metadata": {},
     "output_type": "execute_result"
    }
   ],
   "source": [
    "named_student_tuple[0]"
   ]
  },
  {
   "cell_type": "code",
   "execution_count": 12,
   "metadata": {},
   "outputs": [
    {
     "name": "stdout",
     "output_type": "stream",
     "text": [
      "Person(first_name='Joe', last_name='Schmoe', zip_code='93002')\n",
      "Person(first_name='adams', last_name='white', zip_code='760001')\n"
     ]
    }
   ],
   "source": [
    "\n",
    "Person = namedtuple('Person', 'first_name last_name zip_code')\n",
    "p1 = Person('Joe', 'Schmoe', '93002')\n",
    "p2 = Person(\"adams\",\"white\",\"760001\")\n",
    "print(p1)\n",
    "print(p2)"
   ]
  },
  {
   "cell_type": "code",
   "execution_count": 10,
   "metadata": {},
   "outputs": [
    {
     "data": {
      "text/plain": [
       "'Joe'"
      ]
     },
     "execution_count": 10,
     "metadata": {},
     "output_type": "execute_result"
    }
   ],
   "source": [
    "p1[0]"
   ]
  },
  {
   "cell_type": "code",
   "execution_count": 11,
   "metadata": {},
   "outputs": [
    {
     "data": {
      "text/plain": [
       "3"
      ]
     },
     "execution_count": 11,
     "metadata": {},
     "output_type": "execute_result"
    }
   ],
   "source": [
    "len(p1)"
   ]
  },
  {
   "cell_type": "code",
   "execution_count": 13,
   "metadata": {},
   "outputs": [
    {
     "name": "stdout",
     "output_type": "stream",
     "text": [
      "deque(['d', 'u', 'r', 'e', 'k'])\n"
     ]
    }
   ],
   "source": [
    "#Dequeue\n",
    "#deque pronounced as ‘deck’ is an optimized list to perform insertion and deletion easily.\n",
    "from collections import deque\n",
    " \n",
    "a = ('d' , 'u' , 'r' , 'e' , 'k')\n",
    "a1 = deque(a)\n",
    "print(a1)\n",
    "#the output will be deque([ 'd' , 'u' , 'r' , 'e' , 'k' ])"
   ]
  },
  {
   "cell_type": "code",
   "execution_count": 14,
   "metadata": {},
   "outputs": [
    {
     "name": "stdout",
     "output_type": "stream",
     "text": [
      "deque(['d', 'u', 'r', 'e', 'k', 'a'])\n",
      "deque(['e', 'd', 'u', 'r', 'e', 'k', 'a'])\n"
     ]
    }
   ],
   "source": [
    "a1.append('a')\n",
    "print(a1)\n",
    "# the output will be deque([ 'd' , 'u' , 'r' , 'e' , 'k' , 'a' ])\n",
    "a1.appendleft('e')\n",
    "print(a1)"
   ]
  },
  {
   "cell_type": "code",
   "execution_count": 15,
   "metadata": {},
   "outputs": [
    {
     "name": "stdout",
     "output_type": "stream",
     "text": [
      "deque(['e', 'd', 'u', 'r', 'e', 'k'])\n",
      "deque(['d', 'u', 'r', 'e', 'k'])\n"
     ]
    }
   ],
   "source": [
    "a1.pop()\n",
    "print(a1)\n",
    "#the output will be deque([ 'e' , 'd' , 'u' , 'r' , 'e' , 'k' ])\n",
    "a1.popleft()\n",
    "print(a1)"
   ]
  },
  {
   "cell_type": "code",
   "execution_count": 1,
   "metadata": {},
   "outputs": [
    {
     "name": "stdout",
     "output_type": "stream",
     "text": [
      "ChainMap({1: 'edureka', 2: 'python'}, {3: 'data science', 4: 'Machine learning'})\n"
     ]
    }
   ],
   "source": [
    "#Chainmap\n",
    "\n",
    "#It is a dictionary like class which is able to make a single view of multiple mappings. \n",
    "#It basically returns a list of several other dictionaries. Suppose you have two dictionaries with several key value pairs, in \n",
    "#this case ChainMap will make a single list with both the dictionaries in it.\n",
    "\n",
    "from collections import ChainMap\n",
    "a = { 1: 'edureka' , 2: 'python'}\n",
    "b = {3: 'data science' , 4: 'Machine learning'}\n",
    "c = ChainMap(a,b)\n",
    "print(c)\n"
   ]
  },
  {
   "cell_type": "code",
   "execution_count": 4,
   "metadata": {},
   "outputs": [
    {
     "name": "stdout",
     "output_type": "stream",
     "text": [
      "ChainMap({'India': 'IN', 'China': 'CN'}, {'France': 'FR', 'United Kingdom': 'GB'})\n"
     ]
    }
   ],
   "source": [
    "import collections as col\n",
    "con_code1 = {'India' : 'IN', 'China' : 'CN'}\n",
    "con_code2 = {'France' : 'FR', 'United Kingdom' : 'GB'}\n",
    "chain = col.ChainMap(con_code1, con_code2)\n",
    "print(chain)"
   ]
  },
  {
   "cell_type": "code",
   "execution_count": 3,
   "metadata": {},
   "outputs": [
    {
     "name": "stdout",
     "output_type": "stream",
     "text": [
      "['France', 'United Kingdom', 'India', 'China']\n"
     ]
    }
   ],
   "source": [
    "print(list(chain.keys()))"
   ]
  },
  {
   "cell_type": "code",
   "execution_count": 5,
   "metadata": {},
   "outputs": [
    {
     "name": "stdout",
     "output_type": "stream",
     "text": [
      "ChainMap({'Japan': 'JP'}, {'India': 'IN', 'China': 'CN'}, {'France': 'FR', 'United Kingdom': 'GB'})\n"
     ]
    }
   ],
   "source": [
    "#The new_child() method is used to add another dictionary object to the ChainMap at the beginning. \n",
    "#And the reversed method is also can be used to ChainMap to reverse the order of the key-value pairs.\n",
    "code = {'Japan' : 'JP'}\n",
    "chain = chain.new_child(code)\n",
    "print(chain)"
   ]
  },
  {
   "cell_type": "code",
   "execution_count": 6,
   "metadata": {},
   "outputs": [
    {
     "name": "stdout",
     "output_type": "stream",
     "text": [
      "The values in the ChainMap: ['FR', 'GB', 'IN', 'CN', 'JP']\n"
     ]
    }
   ],
   "source": [
    "print('The values in the ChainMap: ' + str(list(chain.values())))"
   ]
  },
  {
   "cell_type": "code",
   "execution_count": 5,
   "metadata": {},
   "outputs": [
    {
     "name": "stdout",
     "output_type": "stream",
     "text": [
      "Counter({1: 4, 3: 4, 4: 2, 2: 1})\n"
     ]
    }
   ],
   "source": [
    "#Counter\n",
    "#It is a dictionary subclass which is used to count hashable objects.\n",
    "from collections import Counter\n",
    "a = [1,1,1,1,2,3,3,4,3,3,4]\n",
    "c = Counter(a)\n",
    "print(c)"
   ]
  },
  {
   "cell_type": "code",
   "execution_count": 8,
   "metadata": {},
   "outputs": [
    {
     "name": "stdout",
     "output_type": "stream",
     "text": [
      "Initial : Counter()\n",
      "Sequence: Counter({'a': 3, 'b': 2, 'c': 1, 'd': 1})\n",
      "Dict    : Counter({'d': 6, 'a': 4, 'b': 2, 'c': 1})\n"
     ]
    }
   ],
   "source": [
    "import collections\n",
    "\n",
    "c = collections.Counter()\n",
    "print('Initial :', c)\n",
    "\n",
    "c.update('abcdaab')\n",
    "print('Sequence:', c)\n",
    "\n",
    "c.update({'a':1, 'd':5})\n",
    "print('Dict    :', c)"
   ]
  },
  {
   "cell_type": "code",
   "execution_count": null,
   "metadata": {},
   "outputs": [],
   "source": [
    "pwd"
   ]
  },
  {
   "cell_type": "code",
   "execution_count": 7,
   "metadata": {
    "scrolled": true
   },
   "outputs": [
    {
     "name": "stdout",
     "output_type": "stream",
     "text": [
      "Most common:\n",
      " :      13\n",
      "a:       7\n",
      "i:       6\n",
      "m:       5\n"
     ]
    }
   ],
   "source": [
    "import collections\n",
    "c = collections.Counter()\n",
    "with open('python.txt', 'rt') as f:\n",
    "    for line in f:\n",
    "        c.update(line.strip().lower())\n",
    "\n",
    "print('Most common:')\n",
    "for letter, count in c.most_common(4):\n",
    "    print('%s: %7d' % (letter, count))#  i am is "
   ]
  },
  {
   "cell_type": "code",
   "execution_count": 13,
   "metadata": {},
   "outputs": [
    {
     "data": {
      "text/plain": [
       "[('B', 3), ('A', 2)]"
      ]
     },
     "execution_count": 13,
     "metadata": {},
     "output_type": "execute_result"
    }
   ],
   "source": [
    "from collections import Counter\n",
    "test = Counter([\"A\",\"B\",\"A\",\"B\",\"B\",\"C\",\"C\",\"D\",\"D\",\"E\",\"F\",\"G\",\"H\"])\n",
    "#Counter({'A': 3, 'C': 2, 'B': 2, 'D': 2, 'E': 1, 'G': 1, 'F': 1, 'H': 1})\n",
    "test.most_common(2)"
   ]
  },
  {
   "cell_type": "code",
   "execution_count": null,
   "metadata": {},
   "outputs": [],
   "source": [
    "f.close()"
   ]
  },
  {
   "cell_type": "code",
   "execution_count": 8,
   "metadata": {},
   "outputs": [
    {
     "name": "stdout",
     "output_type": "stream",
     "text": [
      "hi my name is python\n",
      "my hobbies are playing cards\n",
      "I am from Bangalore . I\n"
     ]
    }
   ],
   "source": [
    "with open('python.txt', \"r\") as f:\n",
    "    for line in f:\n",
    "        cleanedLine = line.strip()\n",
    "        if cleanedLine: # is not empty\n",
    "            print(cleanedLine)"
   ]
  },
  {
   "cell_type": "code",
   "execution_count": 9,
   "metadata": {},
   "outputs": [
    {
     "name": "stdout",
     "output_type": "stream",
     "text": [
      "    This is Test String to strip leading space\n",
      "This is Test String to strip leading space\n"
     ]
    }
   ],
   "source": [
    "string1=\"    This is Test String to strip leading space\"\n",
    "print (string1)\n",
    "print (string1.lstrip())"
   ]
  },
  {
   "cell_type": "code",
   "execution_count": null,
   "metadata": {},
   "outputs": [],
   "source": [
    "from collections import defaultdict"
   ]
  },
  {
   "cell_type": "code",
   "execution_count": 12,
   "metadata": {},
   "outputs": [
    {
     "name": "stdout",
     "output_type": "stream",
     "text": [
      "defaultdict(<function <lambda> at 0x00000265E8B0DD38>, {'name': 'Amit'})\n",
      "54\n",
      "54\n"
     ]
    }
   ],
   "source": [
    "from collections import defaultdict\n",
    "d = defaultdict(lambda: \"54\")\n",
    "d[\"name\"] = \"Amit\"\n",
    "\n",
    "\n",
    "\n",
    "print(d)\n",
    "\n",
    "\n",
    "\n",
    "print(d[\"age\"])\n",
    "\n",
    "print(d[\"height\"])"
   ]
  },
  {
   "cell_type": "code",
   "execution_count": 13,
   "metadata": {},
   "outputs": [
    {
     "name": "stdout",
     "output_type": "stream",
     "text": [
      "{'name': 'amit', 'age': 18, 'class': 1, 'state': 'Karnataka'}\n"
     ]
    }
   ],
   "source": [
    "somedict = {'name' : 'amit',\"age\" :18,\"class\" : 1,\"state\" :'Karnataka'}\n",
    "print(somedict) \n",
    "\n"
   ]
  },
  {
   "cell_type": "code",
   "execution_count": 16,
   "metadata": {},
   "outputs": [
    {
     "name": "stdout",
     "output_type": "stream",
     "text": [
      "54\n",
      "54\n",
      "54\n"
     ]
    }
   ],
   "source": [
    "from collections import defaultdict\n",
    "someddict = defaultdict(lambda: \"54\")\n",
    "print(someddict[3])\n",
    "print(someddict[10])\n",
    "\n",
    "print(someddict['age'])"
   ]
  },
  {
   "cell_type": "code",
   "execution_count": 29,
   "metadata": {},
   "outputs": [
    {
     "data": {
      "text/plain": [
       "[('blue', [2, 4]), ('red', [1]), ('yellow', [1, 3])]"
      ]
     },
     "execution_count": 29,
     "metadata": {},
     "output_type": "execute_result"
    }
   ],
   "source": [
    "s = [('yellow', 1), ('blue', 2), ('yellow', 3), ('blue', 4), ('red', 1)]\n",
    ">>> d = defaultdict(list)\n",
    ">>> for k, v in s:\n",
    "...     d[k].append(v)\n",
    "...\n",
    ">>> d.items()\n",
    "#[('blue', [2, 4]), ('red', [1]), ('yellow', [1, 3])]"
   ]
  },
  {
   "cell_type": "code",
   "execution_count": 1,
   "metadata": {},
   "outputs": [
    {
     "name": "stdout",
     "output_type": "stream",
     "text": [
      "('AA', 11)\n",
      "('BB', 22)\n",
      "('CC', 33)\n",
      "('DD', 44)\n",
      "\n",
      "('AA', 11)\n",
      "('BB', 22)\n",
      "('CC', 33)\n",
      "('DD', 44)\n"
     ]
    }
   ],
   "source": [
    "# ordered dict\n",
    "import collections\n",
    "#Create normal dict\n",
    "my_dict = {}\n",
    "my_dict['AA'] = 11\n",
    "my_dict['BB'] = 22\n",
    "my_dict['CC'] = 33\n",
    "my_dict['DD'] = 44\n",
    "for item in my_dict.items():\n",
    "   print(item)\n",
    "print()\n",
    "#Create ordered dict\n",
    "my_ord_dict = collections.OrderedDict()\n",
    "my_ord_dict['AA'] = 11\n",
    "my_ord_dict['BB'] = 22\n",
    "my_ord_dict['CC'] = 33\n",
    "my_ord_dict['DD'] = 44\n",
    "for item in my_ord_dict.items():\n",
    "   print(item)\n",
    "\n"
   ]
  },
  {
   "cell_type": "code",
   "execution_count": 41,
   "metadata": {},
   "outputs": [
    {
     "name": "stdout",
     "output_type": "stream",
     "text": [
      "OrderedDict([('AA', 11), ('BB', 22), ('CC', 33), ('DD', 44)])\n"
     ]
    }
   ],
   "source": [
    "# how to imput items in one go\n",
    "my_ord_dict = collections.OrderedDict()\n",
    "my_ord_dict['AA'] = 11\n",
    "my_ord_dict['BB'] = 22\n",
    "my_ord_dict['CC'] = 33\n",
    "my_ord_dict['DD'] = 44\n",
    "print(my_ord_dict)\n",
    "\n",
    "\n",
    "\n",
    "\n",
    "\n",
    "\n",
    "\n"
   ]
  },
  {
   "cell_type": "code",
   "execution_count": 28,
   "metadata": {},
   "outputs": [
    {
     "name": "stdout",
     "output_type": "stream",
     "text": [
      "Original Dictionary\n",
      "{'a': 1, 'b': 2, 'c': 3}\n"
     ]
    },
    {
     "ename": "RuntimeError",
     "evalue": "Deletion not allowed",
     "output_type": "error",
     "traceback": [
      "\u001b[1;31m---------------------------------------------------------------------------\u001b[0m",
      "\u001b[1;31mRuntimeError\u001b[0m                              Traceback (most recent call last)",
      "\u001b[1;32m<ipython-input-28-dbb5d03e472c>\u001b[0m in \u001b[0;36m<module>\u001b[1;34m\u001b[0m\n\u001b[0;32m     29\u001b[0m \u001b[0mprint\u001b[0m\u001b[1;33m(\u001b[0m\u001b[0md\u001b[0m\u001b[1;33m)\u001b[0m\u001b[1;33m\u001b[0m\u001b[1;33m\u001b[0m\u001b[0m\n\u001b[0;32m     30\u001b[0m \u001b[1;33m\u001b[0m\u001b[0m\n\u001b[1;32m---> 31\u001b[1;33m \u001b[0md\u001b[0m\u001b[1;33m.\u001b[0m\u001b[0mpop\u001b[0m\u001b[1;33m(\u001b[0m\u001b[1;36m1\u001b[0m\u001b[1;33m)\u001b[0m\u001b[1;33m\u001b[0m\u001b[1;33m\u001b[0m\u001b[0m\n\u001b[0m",
      "\u001b[1;32m<ipython-input-28-dbb5d03e472c>\u001b[0m in \u001b[0;36mpop\u001b[1;34m(self, s)\u001b[0m\n\u001b[0;32m     14\u001b[0m     \u001b[1;31m# dictionary\u001b[0m\u001b[1;33m\u001b[0m\u001b[1;33m\u001b[0m\u001b[1;33m\u001b[0m\u001b[0m\n\u001b[0;32m     15\u001b[0m     \u001b[1;32mdef\u001b[0m \u001b[0mpop\u001b[0m\u001b[1;33m(\u001b[0m\u001b[0mself\u001b[0m\u001b[1;33m,\u001b[0m \u001b[0ms\u001b[0m \u001b[1;33m=\u001b[0m \u001b[1;32mNone\u001b[0m\u001b[1;33m)\u001b[0m\u001b[1;33m:\u001b[0m\u001b[1;33m\u001b[0m\u001b[1;33m\u001b[0m\u001b[0m\n\u001b[1;32m---> 16\u001b[1;33m         \u001b[1;32mraise\u001b[0m \u001b[0mRuntimeError\u001b[0m\u001b[1;33m(\u001b[0m\u001b[1;34m\"Deletion not allowed\"\u001b[0m\u001b[1;33m)\u001b[0m\u001b[1;33m\u001b[0m\u001b[1;33m\u001b[0m\u001b[0m\n\u001b[0m\u001b[0;32m     17\u001b[0m \u001b[1;33m\u001b[0m\u001b[0m\n\u001b[0;32m     18\u001b[0m     \u001b[1;31m# Function to stop popitem\u001b[0m\u001b[1;33m\u001b[0m\u001b[1;33m\u001b[0m\u001b[1;33m\u001b[0m\u001b[0m\n",
      "\u001b[1;31mRuntimeError\u001b[0m: Deletion not allowed"
     ]
    }
   ],
   "source": [
    "from collections import UserDict \n",
    "   \n",
    "  \n",
    "# Creating a Dictionary where \n",
    "# deletion is not allowed \n",
    "class MyDict(UserDict): \n",
    "      \n",
    "    # Function to stop deleltion \n",
    "    # from dictionary \n",
    "    def __del__(self): \n",
    "        raise RuntimeError(\"Deletion not allowed\") \n",
    "          \n",
    "    # Function to stop pop from  \n",
    "    # dictionary \n",
    "    def pop(self, s = None): \n",
    "        raise RuntimeError(\"Deletion not allowed\") \n",
    "          \n",
    "    # Function to stop popitem  \n",
    "    # from Dictionary \n",
    "    def popitem(self, s = None): \n",
    "        raise RuntimeError(\"Deletion not allowed\") \n",
    "      \n",
    "# Driver's code \n",
    "d = MyDict({'a':1, \n",
    "    'b': 2, \n",
    "    'c': 3}) \n",
    "  \n",
    "print(\"Original Dictionary\") \n",
    "print(d) \n",
    "  \n",
    "d.pop(1) "
   ]
  },
  {
   "cell_type": "code",
   "execution_count": 18,
   "metadata": {},
   "outputs": [
    {
     "name": "stdout",
     "output_type": "stream",
     "text": [
      "Printing normal Dictionary : \n",
      "key : 1,value : one\n",
      "key : 2,value : two\n",
      "key : 3,value : three\n",
      "key : 4,value : four\n",
      "key : 5,value : five\n"
     ]
    }
   ],
   "source": [
    "normal_dict = {}\n",
    "\n",
    "normal_dict['1'] = \"one\"\n",
    "normal_dict['2'] = \"two\"\n",
    "normal_dict['3'] = \"three\"\n",
    "normal_dict['4'] = \"four\"\n",
    "normal_dict['5'] = \"five\"\n",
    "\n",
    "print(\"Printing normal Dictionary : \")\n",
    "\n",
    "for key,value in normal_dict.items():\n",
    "  print(\"key : {0},value : {1}\".format(key,value))"
   ]
  },
  {
   "cell_type": "code",
   "execution_count": 31,
   "metadata": {},
   "outputs": [
    {
     "name": "stdout",
     "output_type": "stream",
     "text": [
      "Original List\n"
     ]
    },
    {
     "ename": "RuntimeError",
     "evalue": "append not allowed",
     "output_type": "error",
     "traceback": [
      "\u001b[1;31m---------------------------------------------------------------------------\u001b[0m",
      "\u001b[1;31mRuntimeError\u001b[0m                              Traceback (most recent call last)",
      "\u001b[1;32m<ipython-input-31-e979ae4e08d6>\u001b[0m in \u001b[0;36m<module>\u001b[1;34m\u001b[0m\n\u001b[0;32m     22\u001b[0m \u001b[1;33m\u001b[0m\u001b[0m\n\u001b[0;32m     23\u001b[0m \u001b[1;31m# Inserting to List\"\u001b[0m\u001b[1;33m\u001b[0m\u001b[1;33m\u001b[0m\u001b[1;33m\u001b[0m\u001b[0m\n\u001b[1;32m---> 24\u001b[1;33m \u001b[0mL\u001b[0m\u001b[1;33m.\u001b[0m\u001b[0mappend\u001b[0m\u001b[1;33m(\u001b[0m\u001b[1;36m5\u001b[0m\u001b[1;33m)\u001b[0m\u001b[1;33m\u001b[0m\u001b[1;33m\u001b[0m\u001b[0m\n\u001b[0m\u001b[0;32m     25\u001b[0m \u001b[1;31m#print(\"After Insertion\")\u001b[0m\u001b[1;33m\u001b[0m\u001b[1;33m\u001b[0m\u001b[1;33m\u001b[0m\u001b[0m\n\u001b[0;32m     26\u001b[0m \u001b[1;31m#print(L)\u001b[0m\u001b[1;33m\u001b[0m\u001b[1;33m\u001b[0m\u001b[1;33m\u001b[0m\u001b[0m\n",
      "\u001b[1;32m<ipython-input-31-e979ae4e08d6>\u001b[0m in \u001b[0;36mappend\u001b[1;34m(self, s)\u001b[0m\n\u001b[0;32m      9\u001b[0m     \u001b[1;31m# from List\u001b[0m\u001b[1;33m\u001b[0m\u001b[1;33m\u001b[0m\u001b[1;33m\u001b[0m\u001b[0m\n\u001b[0;32m     10\u001b[0m     \u001b[1;32mdef\u001b[0m \u001b[0mappend\u001b[0m\u001b[1;33m(\u001b[0m\u001b[0mself\u001b[0m\u001b[1;33m,\u001b[0m \u001b[0ms\u001b[0m\u001b[1;33m=\u001b[0m\u001b[1;32mNone\u001b[0m\u001b[1;33m)\u001b[0m\u001b[1;33m:\u001b[0m\u001b[1;33m\u001b[0m\u001b[1;33m\u001b[0m\u001b[0m\n\u001b[1;32m---> 11\u001b[1;33m         \u001b[1;32mraise\u001b[0m \u001b[0mRuntimeError\u001b[0m\u001b[1;33m(\u001b[0m\u001b[1;34m\"append not allowed\"\u001b[0m\u001b[1;33m)\u001b[0m\u001b[1;33m\u001b[0m\u001b[1;33m\u001b[0m\u001b[0m\n\u001b[0m\u001b[0;32m     12\u001b[0m \u001b[1;33m\u001b[0m\u001b[0m\n\u001b[0;32m     13\u001b[0m     \u001b[1;31m# Function to stop pop from\u001b[0m\u001b[1;33m\u001b[0m\u001b[1;33m\u001b[0m\u001b[1;33m\u001b[0m\u001b[0m\n",
      "\u001b[1;31mRuntimeError\u001b[0m: append not allowed"
     ]
    }
   ],
   "source": [
    "from collections import UserList \n",
    "   \n",
    "  \n",
    "# Creating a List where \n",
    "# deletion is not allowed \n",
    "class MyList(UserList): \n",
    "      \n",
    "    # Function to stop deleltion \n",
    "    # from List \n",
    "    def append(self, s=None): \n",
    "        raise RuntimeError(\"append not allowed\") \n",
    "          \n",
    "    # Function to stop pop from  \n",
    "    # List \n",
    "    def pop(self, s = None): \n",
    "        raise RuntimeError(\"Deletion not allowed\") \n",
    "      \n",
    "# Driver's code \n",
    "L = MyList([1, 2, 3, 4]) \n",
    "  \n",
    "print(\"Original List\") \n",
    "  \n",
    "# Inserting to List\" \n",
    "L.append(5) \n",
    "#print(\"After Insertion\") \n",
    "#print(L) \n",
    "  \n",
    "# Deliting From List \n",
    "#L.remove() "
   ]
  },
  {
   "cell_type": "code",
   "execution_count": null,
   "metadata": {},
   "outputs": [],
   "source": [
    "\n",
    "\n",
    "import tkinter\n",
    "\n",
    "class simpleapp_tk(tkinter.Tk):\n",
    "    def __init__(self,parent):\n",
    "        tkinter.Tk.__init__(self,parent)\n",
    "        self.parent = parent\n",
    "        self.initialize()\n",
    "\n",
    "    def initialize(self):\n",
    "        self.grid()\n",
    "\n",
    "        self.entry = tkinter.Entry(self)\n",
    "        self.entry.grid(column=0,row=0,sticky='EW')\n",
    "\n",
    "        button = tkinter.Button(self,text=u\"Click me !\")\n",
    "        button.grid(column=1,row=0)\n",
    "\n",
    "        label = tkinter.Label(self,\n",
    "                              anchor=\"w\",fg=\"white\",bg=\"blue\")\n",
    "        label.grid(column=0,row=1,columnspan=2,sticky='EW')\n",
    "\n",
    "        self.grid_columnconfigure(0,weight=1)\n",
    "\n",
    "if __name__ == \"__main__\":\n",
    "    app = simpleapp_tk(None)\n",
    "    app.title('my application')\n",
    "    app.mainloop()"
   ]
  },
  {
   "cell_type": "code",
   "execution_count": 23,
   "metadata": {},
   "outputs": [
    {
     "name": "stdout",
     "output_type": "stream",
     "text": [
      "('a', 11)\n",
      "('b', 22)\n",
      "('c', 33)\n",
      "('age', 18)\n",
      "('d', 11)\n",
      "('e', 20)\n",
      "('f', 28)\n",
      "('g', 10)\n",
      "('h', 5)\n",
      "('i', 6)\n"
     ]
    }
   ],
   "source": [
    "d = {}\n",
    "d['a'] = 11\n",
    "d['b'] =22\n",
    "d['c'] =33\n",
    "d['age'] =18\n",
    "d['d'] = 11\n",
    "d['e'] =20\n",
    "d['f'] =28\n",
    "d['g'] = 10\n",
    "d['h'] =5\n",
    "d['i'] =6\n",
    "\n",
    "for item in d.items():\n",
    "   print(item)"
   ]
  },
  {
   "cell_type": "code",
   "execution_count": null,
   "metadata": {},
   "outputs": [],
   "source": [
    "from tkinter import *\n",
    "\n",
    "window = Tk()\n",
    "\n",
    "window.title(\"Studyfied.com\")\n",
    "window.geometry('350x200')\n",
    "\n",
    "label = Label(window, text=\"Hello Tkinter\", font=(\"Arial Bold\", 16))\n",
    "label.grid(column=0, row=0)\n",
    "\n",
    "window.mainloop()"
   ]
  },
  {
   "cell_type": "code",
   "execution_count": null,
   "metadata": {},
   "outputs": [],
   "source": []
  }
 ],
 "metadata": {
  "kernelspec": {
   "display_name": "Python 3",
   "language": "python",
   "name": "python3"
  },
  "language_info": {
   "codemirror_mode": {
    "name": "ipython",
    "version": 3
   },
   "file_extension": ".py",
   "mimetype": "text/x-python",
   "name": "python",
   "nbconvert_exporter": "python",
   "pygments_lexer": "ipython3",
   "version": "3.7.4"
  }
 },
 "nbformat": 4,
 "nbformat_minor": 2
}
